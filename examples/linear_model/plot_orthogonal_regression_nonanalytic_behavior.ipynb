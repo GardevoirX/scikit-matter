{
 "cells": [
  {
   "cell_type": "markdown",
   "metadata": {},
   "source": [
    "Example that shows how the `use_orthogonal_projector` option in `skcosmo.linear_model.OrthogonalRegression` can result in nonanalytic behavior of the prediction with respect to changes in the feature dimension."
   ]
  },
  {
   "cell_type": "code",
   "execution_count": null,
   "metadata": {},
   "outputs": [],
   "source": [
    "import numpy as np\n",
    "import matplotlib.pyplot as plt\n",
    "from skcosmo.linear_model import OrthogonalRegression\n",
    "\n",
    "cube = np.array(\n",
    "    [\n",
    "        [0, 0, 0],\n",
    "        [1, 0, 0],\n",
    "        [0, 1, 0],\n",
    "        [0, 0, 1],\n",
    "        [1, 1, 0],\n",
    "        [0, 1, 1],\n",
    "        [1, 0, 1],\n",
    "        [1, 1, 1],\n",
    "    ]\n",
    ")\n",
    "\n",
    "# Can be seen as a cube with zero z-scaling without the z-dimension.\n",
    "# This is important because we compare it with a cube with zero\n",
    "# z-scaling keeping the z-dimension\n",
    "xy_plane_projected_cube = cube[:,[0,1]]\n",
    "\n",
    "\n",
    "def z_scaled_cube(z_scaling):\n",
    "    return np.array(\n",
    "        [\n",
    "            [0, 0, 0],\n",
    "            [1, 0, 0],\n",
    "            [0, 1, 0],\n",
    "            [0, 0, z_scaling],\n",
    "            [1, 1, 0],\n",
    "            [0, 1, z_scaling],\n",
    "            [1, 0, z_scaling],\n",
    "            [1, 1, z_scaling],\n",
    "        ]\n",
    "    )\n",
    "\n",
    "\n",
    "z_scalings = np.linspace(0, 1, 10)"
   ]
  },
  {
   "cell_type": "markdown",
   "metadata": {},
   "source": [
    "We compute the orthogonal regression error for the orthogonal regression of a cube fitting on a cube with z-scaling in the range [0,1]. For the case of a zero z-scaling the error is computed one time with a third dimension and one time without. The regression is done with `skcosmo.linear_model.OrthogonalRegression` first setting the `use_orthogonal_projector` to True."
   ]
  },
  {
   "cell_type": "code",
   "execution_count": null,
   "metadata": {},
   "outputs": [],
   "source": [
    "regression_errors_for_z_scaled_cube_using_orthogonal_projector = []\n",
    "orth_reg_using_orthogonal_projector = OrthogonalRegression(use_orthogonal_projector=True)\n",
    "for z in z_scalings:\n",
    "    orth_reg_using_orthogonal_projector.fit(cube, z_scaled_cube(z))\n",
    "    orth_reg_pred_cube = orth_reg_using_orthogonal_projector.predict(cube)\n",
    "    regression_error = np.linalg.norm(z_scaled_cube(z) - orth_reg_pred_cube)\n",
    "    regression_errors_for_z_scaled_cube_using_orthogonal_projector.append(regression_error)\n",
    "\n",
    "\n",
    "orth_reg_using_orthogonal_projector.fit(cube, xy_plane_projected_cube)\n",
    "orth_reg_pred_cube = orth_reg_using_orthogonal_projector.predict(cube)\n",
    "regression_error_for_xy_plane_projected_cube_using_orthogonal_projector = (\n",
    "        np.linalg.norm(xy_plane_projected_cube - orth_reg_pred_cube)\n",
    "    )"
   ]
  },
  {
   "cell_type": "markdown",
   "metadata": {},
   "source": [
    "Then setting `use_orthogonal_projector` to False."
   ]
  },
  {
   "cell_type": "code",
   "execution_count": null,
   "metadata": {},
   "outputs": [],
   "source": [
    "orth_reg = OrthogonalRegression(use_orthogonal_projector=False)\n",
    "regression_errors_for_z_scaled_cube_zero_padded = []\n",
    "for z in z_scalings:\n",
    "    orth_reg.fit(cube, z_scaled_cube(z))\n",
    "    orth_reg_pred_cube = orth_reg.predict(cube)\n",
    "    regression_error = np.linalg.norm(z_scaled_cube(z) - orth_reg_pred_cube)\n",
    "    regression_errors_for_z_scaled_cube_zero_padded.append(regression_error)"
   ]
  },
  {
   "cell_type": "markdown",
   "metadata": {},
   "source": [
    "Setting the `use_orthogonal_projector` option to False pads automatically input and output data to the same dimension with zeros. Therefore we pad `xy_plane_projected_cube` to three dimensions with zeros."
   ]
  },
  {
   "cell_type": "code",
   "execution_count": null,
   "metadata": {},
   "outputs": [],
   "source": [
    "orth_reg.fit(cube, xy_plane_projected_cube)\n",
    "orth_reg_pred_cube = orth_reg.predict(cube)\n",
    "zero_padded_xy_plane_projected_cube = np.pad(xy_plane_projected_cube, [(0, 0), (0, 1)])\n",
    "\n",
    "regression_error_for_xy_plane_projected_cube_zero_padded = np.linalg.norm(\n",
    "    zero_padded_xy_plane_projected_cube - orth_reg_pred_cube\n",
    ")"
   ]
  },
  {
   "cell_type": "markdown",
   "metadata": {},
   "source": [
    "It can be seen that setting the  `use_orthogonal_projector` to True results in a nonanalytic behavior with respect to changes in the dimension. The zero z-scaling case returns different orthogonal regression errors depeding on retaining the third dimension or not. When setting the `use_orthogonal_projector` to False this nonanalytic behavior is not present."
   ]
  },
  {
   "cell_type": "code",
   "execution_count": null,
   "metadata": {},
   "outputs": [],
   "source": [
    "fig, axes = plt.subplots(1, 2, figsize=(10, 3.8), sharey=True)\n",
    "\n",
    "axes[0].plot(\n",
    "    z_scalings,\n",
    "    regression_errors_for_z_scaled_cube_using_orthogonal_projector,\n",
    "    label=\"Regression error for z-scaled cube\",\n",
    ")\n",
    "axes[0].scatter(\n",
    "    0,\n",
    "    regression_error_for_xy_plane_projected_cube_using_orthogonal_projector,\n",
    "    label=\"Regression error for xy_plane_projected_cube\",\n",
    ")\n",
    "axes[0].set_title(\n",
    "    \"Orthogonal regression erro for\\n features using orthogonal projector\"\n",
    ")\n",
    "axes[0].set_xlabel(\"scaling in z direction\")\n",
    "axes[0].set_ylabel(\"orthogonal regression error\")\n",
    "\n",
    "axes[1].plot(\n",
    "    z_scalings,\n",
    "    regression_errors_for_z_scaled_cube_zero_padded,\n",
    "    label=\"Regression error for z-scaled cube\",\n",
    ")\n",
    "axes[1].scatter(\n",
    "    0,\n",
    "    regression_error_for_xy_plane_projected_cube_zero_padded,\n",
    "    label=\"Regression error for xy_plane_projected_cube\",\n",
    ")\n",
    "axes[1].set_title(\"Orthogonal regression error for\\n zero padded features\")\n",
    "axes[1].set_xlabel(\"scaling in z direction\")\n",
    "axes[1].legend(loc=\"lower right\")\n",
    "plt.show()"
   ]
  }
 ],
 "metadata": {
  "kernelspec": {
   "display_name": "Python 3",
   "language": "python",
   "name": "python3"
  },
  "language_info": {
   "codemirror_mode": {
    "name": "ipython",
    "version": 3
   },
   "file_extension": ".py",
   "mimetype": "text/x-python",
   "name": "python",
   "nbconvert_exporter": "python",
   "pygments_lexer": "ipython3",
   "version": "3.7.6"
  }
 },
 "nbformat": 4,
 "nbformat_minor": 4
}
