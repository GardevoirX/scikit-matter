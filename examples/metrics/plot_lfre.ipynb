{
 "cells": [
  {
   "cell_type": "markdown",
   "metadata": {},
   "source": [
    "Example for the usage of the `skcosmo.metrics.pointwise_local_reconstruction_error` as pointwise local reconstruction error (LFRE) on the degenerate CH4 manifold."
   ]
  },
  {
   "cell_type": "code",
   "execution_count": null,
   "metadata": {},
   "outputs": [],
   "source": [
    "import numpy as np\n",
    "import matplotlib.pyplot as plt\n",
    "\n",
    "from skcosmo.datasets import load_degenerate_CH4_manifold\n",
    "from skcosmo.metrics import pointwise_local_reconstruction_error\n",
    "\n",
    "# load features\n",
    "degenerate_manifold = load_degenerate_CH4_manifold()\n",
    "soap_features = degenerate_manifold.data.SOAP_power_spectrum\n",
    "bispectrum_features = degenerate_manifold.data.SOAP_bispectrum"
   ]
  },
  {
   "cell_type": "code",
   "execution_count": null,
   "metadata": {},
   "outputs": [],
   "source": [
    "print(degenerate_manifold.DESCR)"
   ]
  },
  {
   "cell_type": "code",
   "execution_count": null,
   "metadata": {},
   "outputs": [],
   "source": [
    "n_local_points = 20\n",
    "\n",
    "print(\"Computing pointwise LFRE...\")\n",
    "soap_to_bispectrum_pointwise_lfre = pointwise_local_reconstruction_error(\n",
    "    soap_features,\n",
    "    bispectrum_features,\n",
    "    n_local_points,\n",
    "    estimator=None,\n",
    "    n_jobs=4,\n",
    ")\n",
    "bispectrum_to_soap_pointwise_lfre = pointwise_local_reconstruction_error(\n",
    "    bispectrum_features,\n",
    "    soap_features,\n",
    "    n_local_points,\n",
    "    estimator=None,\n",
    "    n_jobs=4,\n",
    ")\n",
    "print(\"Computing pointwise LFRE finished.\")\n",
    "\n",
    "print(\n",
    "    \"LFRE(3-body, 4-body) = \"\n",
    "    f\"{np.linalg.norm(soap_to_bispectrum_pointwise_lfre)/np.sqrt(len(soap_to_bispectrum_pointwise_lfre))}\"\n",
    ")\n",
    "print(\n",
    "    \"LFRE(4-body, 3-body) = \"\n",
    "    f\"{np.linalg.norm(bispectrum_to_soap_pointwise_lfre)/np.sqrt(len(soap_to_bispectrum_pointwise_lfre))}\"\n",
    ")"
   ]
  },
  {
   "cell_type": "code",
   "execution_count": null,
   "metadata": {},
   "outputs": [],
   "source": [
    "fig, axes = plt.subplots(1, 2, constrained_layout=True, figsize=(16, 7.5))\n",
    "vmax = 0.5\n",
    "X, Y = np.meshgrid(np.linspace(0.7, 0.9, 9), np.linspace(-0.1, 0.1, 9))\n",
    "pcm = axes[0].contourf(\n",
    "    X, Y, soap_to_bispectrum_pointwise_lfre[81:].reshape(9, 9).T, vmin=0, vmax=vmax\n",
    ")\n",
    "axes[1].contourf(\n",
    "    X, Y, bispectrum_to_soap_pointwise_lfre[81:].reshape(9, 9).T, vmin=0, vmax=vmax\n",
    ")\n",
    "axes[0].set_ylabel(\"v/π\")\n",
    "axes[1].set_ylabel(\"v/π\")\n",
    "axes[0].set_xlabel(\"u/π\")\n",
    "axes[1].set_xlabel(\"u/π\")\n",
    "axes[0].set_title(\"X minus LFRE(3-body, 4-body)\")\n",
    "axes[1].set_title(\"X minus LFRE(4-body, 3-body)\")\n",
    "fig.colorbar(pcm, ax=axes, label=\"\", location=\"bottom\")\n",
    "plt.show()"
   ]
  },
  {
   "cell_type": "markdown",
   "metadata": {},
   "source": [
    "It can be seen that the reconstruction of 4-body features using 3-body features is most significant along the degenerate manifold/line. Within this manifold the 3-body features remain the same and can therefore not reconstruct the 4-body features. While the 4-body features can perfectly reconstruct the 3-body features."
   ]
  }
 ],
 "metadata": {
  "kernelspec": {
   "display_name": "Python 3",
   "language": "python",
   "name": "python3"
  },
  "language_info": {
   "codemirror_mode": {
    "name": "ipython",
    "version": 3
   },
   "file_extension": ".py",
   "mimetype": "text/x-python",
   "name": "python",
   "nbconvert_exporter": "python",
   "pygments_lexer": "ipython3",
   "version": "3.7.6"
  }
 },
 "nbformat": 4,
 "nbformat_minor": 4
}
