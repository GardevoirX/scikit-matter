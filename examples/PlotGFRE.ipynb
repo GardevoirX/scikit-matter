{
 "cells": [
  {
   "cell_type": "markdown",
   "metadata": {
    "toc": true
   },
   "source": [
    "<h1>Table of Contents<span class=\"tocSkip\"></span></h1>\n",
    "<div class=\"toc\"><ul class=\"toc-item\"><li><span><a href=\"#Global-Feature-Reconstruction-Error-(GFRE)-and-Distortion-(GFRD)\" data-toc-modified-id=\"Global-Feature-Reconstruction-Error-(GFRE)-and-Distortion-(GFRD)-1\"><span class=\"toc-item-num\">1&nbsp;&nbsp;</span>Global Feature Reconstruction Error (GFRE) and Distortion (GFRD)</a></span></li></ul></div>"
   ]
  },
  {
   "cell_type": "markdown",
   "metadata": {},
   "source": [
    "Global Feature Reconstruction Error (GFRE) and Distortion (GFRD)\n",
    "================================================================"
   ]
  },
  {
   "cell_type": "markdown",
   "metadata": {},
   "source": [
    "Example for the usage of the `skcosmo.metrics.global_reconstruction_error` as global feature reconstruction error (GFRE) and `skcosmo.metrics.global_reconstruction_distortion` global feature reconstruction distortion (GFRD) "
   ]
  },
  {
   "cell_type": "code",
   "execution_count": 1,
   "metadata": {},
   "outputs": [],
   "source": [
    "import numpy as np\n",
    "import matplotlib.pyplot as plt\n",
    "\n",
    "from skcosmo.datasets import load_degenerate_CH4_manifold\n",
    "from skcosmo.metrics import (\n",
    "    global_reconstruction_error,\n",
    "    global_reconstruction_distortion,\n",
    ")\n",
    "\n",
    "# load features\n",
    "degenerate_manifold = load_degenerate_CH4_manifold()\n",
    "soap_features = degenerate_manifold.data.SOAP_power_spectrum\n",
    "bispectrum_features = degenerate_manifold.data.SOAP_bispectrum"
   ]
  },
  {
   "cell_type": "code",
   "execution_count": 2,
   "metadata": {},
   "outputs": [
    {
     "name": "stdout",
     "output_type": "stream",
     "text": [
      "Computing GFRE...\n",
      "Computing GFRE finished.\n"
     ]
    }
   ],
   "source": [
    "gfre_matrix = np.zeros((2, 2))\n",
    "print(\"Computing GFRE...\")\n",
    "gfre_matrix[0, 0] = global_reconstruction_error(soap_features, soap_features)\n",
    "gfre_matrix[0, 1] = global_reconstruction_error(soap_features, bispectrum_features)\n",
    "gfre_matrix[1, 0] = global_reconstruction_error(bispectrum_features, soap_features)\n",
    "gfre_matrix[1, 1] = global_reconstruction_error(\n",
    "    bispectrum_features, bispectrum_features\n",
    ")\n",
    "print(\"Computing GFRE finished.\")"
   ]
  },
  {
   "cell_type": "code",
   "execution_count": 3,
   "metadata": {},
   "outputs": [
    {
     "name": "stdout",
     "output_type": "stream",
     "text": [
      "Computing GFRD...\n",
      "Computing GFRD finished.\n"
     ]
    }
   ],
   "source": [
    "gfrd_matrix = np.zeros((2, 2))\n",
    "print(\"Computing GFRD...\")\n",
    "gfrd_matrix[0, 0] = global_reconstruction_distortion(soap_features, soap_features)\n",
    "gfrd_matrix[0, 1] = global_reconstruction_distortion(soap_features, bispectrum_features)\n",
    "gfrd_matrix[1, 0] = global_reconstruction_distortion(bispectrum_features, soap_features)\n",
    "gfrd_matrix[1, 1] = global_reconstruction_distortion(\n",
    "    bispectrum_features, bispectrum_features\n",
    ")\n",
    "print(\"Computing GFRD finished.\")"
   ]
  },
  {
   "cell_type": "markdown",
   "metadata": {},
   "source": [
    "It can be seen that the reconstruction of the 4-body features using 3-body features has a nonnegligible error showing that 4-body features adds additional information in a linear regression sense for this dataset. Furthermore, it can be seen that 3-body features can be reconstructed using 4-body with a negligible error but high distortion."
   ]
  },
  {
   "cell_type": "code",
   "execution_count": 4,
   "metadata": {},
   "outputs": [
    {
     "data": {
      "image/png": "[encoded data removed]",
      "text/plain": [
       "<Figure size 1152x288 with 3 Axes>"
      ]
     },
     "metadata": {
      "needs_background": "light"
     },
     "output_type": "display_data"
    }
   ],
   "source": [
    "fig, axes = plt.subplots(1, 2, figsize=(16, 4))\n",
    "pcm1 = axes[0].imshow(gfre_matrix, vmin=0, vmax=0.25)\n",
    "pcm2 = axes[1].imshow(gfrd_matrix, vmin=0, vmax=0.25)\n",
    "axes[0].set_ylabel(\"F\")\n",
    "axes[0].set_xlabel(\"F'\")\n",
    "axes[1].set_xlabel(\"F'\")\n",
    "axes[0].set_title(\"GFRE(F, F')\")\n",
    "axes[1].set_title(\"GFRD(F, F')\")\n",
    "axes[0].set_xticks([0, 1])\n",
    "axes[0].set_xticklabels([\"3-body\", \"4-body\"])\n",
    "axes[1].set_xticks([0, 1])\n",
    "axes[1].set_xticklabels([\"3-body\", \"4-body\"])\n",
    "axes[0].set_yticks([0, 1])\n",
    "axes[0].set_yticklabels([\"3-body\", \"4-body\"])\n",
    "axes[1].set_yticks([0, 1])\n",
    "axes[1].set_yticklabels([\"\", \"\"])\n",
    "\n",
    "fig.subplots_adjust(right=0.8)\n",
    "cbar_ax = fig.add_axes([0.85, 0.15, 0.05, 0.7])\n",
    "fig.colorbar(pcm2, cax=cbar_ax)\n",
    "plt.show()"
   ]
  },
  {
   "cell_type": "code",
   "execution_count": null,
   "metadata": {},
   "outputs": [],
   "source": []
  }
 ],
 "metadata": {
  "kernelspec": {
   "display_name": "Python 3",
   "language": "python",
   "name": "python3"
  },
  "language_info": {
   "codemirror_mode": {
    "name": "ipython",
    "version": 3
   },
   "file_extension": ".py",
   "mimetype": "text/x-python",
   "name": "python",
   "nbconvert_exporter": "python",
   "pygments_lexer": "ipython3",
   "version": "3.6.11"
  },
  "toc": {
   "base_numbering": 1,
   "nav_menu": {},
   "number_sections": true,
   "sideBar": true,
   "skip_h1_title": false,
   "title_cell": "Table of Contents",
   "title_sidebar": "Contents",
   "toc_cell": true,
   "toc_position": {},
   "toc_section_display": true,
   "toc_window_display": false
  }
 },
 "nbformat": 4,
 "nbformat_minor": 4
}
