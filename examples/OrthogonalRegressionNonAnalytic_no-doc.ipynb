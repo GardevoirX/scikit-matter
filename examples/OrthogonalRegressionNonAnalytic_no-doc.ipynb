{
 "cells": [
  {
   "cell_type": "markdown",
   "metadata": {},
   "source": [
    "Regression with orthogonal projector/matrices\n",
    "================================================================"
   ]
  },
  {
   "cell_type": "markdown",
   "metadata": {},
   "source": [
    "In this example we explain how the `use_orthogonal_projector` option in `skcosmo.linear_model.OrthogonalRegression` can result in nonanalytic behavior for predictions with respect to changes in the feature dimension.\n",
    "`skcosmo.linear_model.OrthogonalRegression` solves the linear regression problem\n",
    "\n",
    "$$ \\min_\\Omega ||y - X\\Omega\\||_F$$\n",
    "\n",
    "with the constraint that $\\Omega$ is an orthogonal projection/matrix  $\\Omega^T\\Omega=I$. In this formulation it can be only solved if $y$ and $X$ have the same dimension, i.e. they agree in the number of features. If `use_orthogonal_projector` is set to False, the feature dimension of $X$ or $y$ are padded with 0 values such that they agree in the number of dimension. To be able to compute an orthogonal projector without any padding of the matrices the option `use_orthogonal_projector` is offered with the caveat that it does not always well behave analytically. For this approach we take the linear regression solution $W$\n",
    "\n",
    "$$ \\min_W ||y - XW\\||_F,$$\n",
    "\n",
    "applyt SVD on it $W = USV^T$ and solve the Procrustes problem for\n",
    "\n",
    "$$\\min_\\Omega' ||yV - XU\\Omega'\\||_F\\quad \\Omega'^T\\Omega'=I$$\n",
    "\n",
    "The final orthogonal projector is then $\\Omega =  U\\Omega' V^T$. This solution can however be problematic, since changing the number of features can result in different predictions. This notebook shows an example of this problematic behaviour. "
   ]
  },
  {
   "cell_type": "code",
   "execution_count": null,
   "metadata": {},
   "outputs": [],
   "source": [
    "import numpy as np\n",
    "import matplotlib.pyplot as plt\n",
    "from skcosmo.linear_model import OrthogonalRegression\n",
    "\n",
    "# These are coordinates of a 3-dimensional cube. We treat the points of the cube as samples\n",
    "# and the 3 dimensions as features x y z\n",
    "cube = np.array(\n",
    "    [\n",
    "        #x  y  z\n",
    "        [0, 0, 0],\n",
    "        [1, 0, 0],\n",
    "        [0, 1, 0],\n",
    "        [0, 0, 1],\n",
    "        [1, 1, 0],\n",
    "        [0, 1, 1],\n",
    "        [1, 0, 1],\n",
    "        [1, 1, 1],\n",
    "    ]\n",
    ")\n",
    "\n",
    "\n",
    "# the x y coordinates of the cube\n",
    "xy_plane_projected_cube = cube[:, [0, 1]]\n",
    "\n",
    "# cube with \n",
    "def z_scaled_cube(z_scaling):\n",
    "    return np.array(\n",
    "        [\n",
    "            [0, 0, 0],\n",
    "            [1, 0, 0],\n",
    "            [0, 1, 0],\n",
    "            [0, 0, z_scaling],\n",
    "            [1, 1, 0],\n",
    "            [0, 1, z_scaling],\n",
    "            [1, 0, z_scaling],\n",
    "            [1, 1, z_scaling],\n",
    "        ]\n",
    "    )\n",
    "\n",
    "# In terms of regressable information `xy_plane_projected_cube` can be seen as z_scaled_cube with z_scaling = 0.\n",
    "# Adding features with zero values should in general not change the prediction quality"
   ]
  },
  {
   "cell_type": "markdown",
   "metadata": {},
   "source": [
    "We compute now the orthogonal regression error fitting on a cube with z-scaling in the range of [0,1] to predict the cube. For the case of a zero z-scaling the error is computed one time with a third dimension and one time without it (using `xy_plane_projected_cube`). The regression is done with `skcosmo.linear_model.OrthogonalRegression` by first setting the `use_orthogonal_projector` to True."
   ]
  },
  {
   "cell_type": "code",
   "execution_count": null,
   "metadata": {},
   "outputs": [],
   "source": [
    "z_scalings = np.linspace(0, 1, 10)\n",
    "\n",
    "regression_errors_for_z_scaled_cube_using_orthogonal_projector = []\n",
    "orth_reg_using_orthogonal_projector = OrthogonalRegression(use_orthogonal_projector=True)\n",
    "for z in z_scalings:\n",
    "    orth_reg_using_orthogonal_projector.fit(cube, z_scaled_cube(z))\n",
    "    orth_reg_pred_cube = orth_reg_using_orthogonal_projector.predict(cube)\n",
    "    regression_error = np.linalg.norm(z_scaled_cube(z) - orth_reg_pred_cube)\n",
    "    regression_errors_for_z_scaled_cube_using_orthogonal_projector.append(regression_error)\n",
    "\n",
    "\n",
    "orth_reg_using_orthogonal_projector.fit(cube, xy_plane_projected_cube)\n",
    "orth_reg_pred_cube = orth_reg_using_orthogonal_projector.predict(cube)\n",
    "regression_error_for_xy_plane_projected_cube_using_orthogonal_projector = (\n",
    "        np.linalg.norm(xy_plane_projected_cube - orth_reg_pred_cube)\n",
    "    )"
   ]
  },
  {
   "cell_type": "markdown",
   "metadata": {},
   "source": [
    "Now we set `use_orthogonal_projector` to False and repeat the above regression."
   ]
  },
  {
   "cell_type": "code",
   "execution_count": null,
   "metadata": {},
   "outputs": [],
   "source": [
    "orth_reg = OrthogonalRegression(use_orthogonal_projector=False)\n",
    "regression_errors_for_z_scaled_cube_zero_padded = []\n",
    "for z in z_scalings:\n",
    "    orth_reg.fit(cube, z_scaled_cube(z))\n",
    "    orth_reg_pred_cube = orth_reg.predict(cube)\n",
    "    regression_error = np.linalg.norm(z_scaled_cube(z) - orth_reg_pred_cube)\n",
    "    regression_errors_for_z_scaled_cube_zero_padded.append(regression_error)"
   ]
  },
  {
   "cell_type": "markdown",
   "metadata": {},
   "source": [
    "Setting the `use_orthogonal_projector` option to False pads automatically input and output data to the same dimension with zeros. Therefore we pad `xy_plane_projected_cube` to three dimensions with zeros."
   ]
  },
  {
   "cell_type": "code",
   "execution_count": null,
   "metadata": {},
   "outputs": [],
   "source": [
    "orth_reg.fit(cube, xy_plane_projected_cube)\n",
    "orth_reg_pred_cube = orth_reg.predict(cube)\n",
    "zero_padded_xy_plane_projected_cube = np.pad(xy_plane_projected_cube, [(0, 0), (0, 1)])\n",
    "\n",
    "regression_error_for_xy_plane_projected_cube_zero_padded = np.linalg.norm(\n",
    "    zero_padded_xy_plane_projected_cube - orth_reg_pred_cube\n",
    ")"
   ]
  },
  {
   "cell_type": "markdown",
   "metadata": {},
   "source": [
    "Now we plot our results"
   ]
  },
  {
   "cell_type": "code",
   "execution_count": null,
   "metadata": {},
   "outputs": [],
   "source": [
    "fig, axes = plt.subplots(1, 2, figsize=(10, 3.8), sharey=True)\n",
    "\n",
    "axes[0].plot(\n",
    "    z_scalings,\n",
    "    regression_errors_for_z_scaled_cube_using_orthogonal_projector,\n",
    "    label=\"Regression error for z-scaled cube\",\n",
    ")\n",
    "axes[0].scatter(\n",
    "    0,\n",
    "    regression_error_for_xy_plane_projected_cube_using_orthogonal_projector,\n",
    "    label=\"Regression error for xy_plane_projected_cube\",\n",
    ")\n",
    "axes[0].set_title(\n",
    "    \"Orthogonal regression error for\\n features using orthogonal projector\\n (use_orthogonal_projector=True)\"\n",
    ")\n",
    "axes[0].set_xlabel(\"scaling in z direction\")\n",
    "axes[0].set_ylabel(\"orthogonal regression error\")\n",
    "\n",
    "axes[1].plot(\n",
    "    z_scalings,\n",
    "    regression_errors_for_z_scaled_cube_zero_padded,\n",
    "    label=\"Regression error for z-scaled cube\",\n",
    ")\n",
    "axes[1].scatter(\n",
    "    0,\n",
    "    regression_error_for_xy_plane_projected_cube_zero_padded,\n",
    "    label=\"Regression error for xy_plane_projected_cube\",\n",
    ")\n",
    "axes[1].set_title(\"Orthogonal regression error for\\n zero padded features\\n (use_orthogonal_projector=False) \")\n",
    "axes[1].set_xlabel(\"scaling in z direction\")\n",
    "axes[1].legend(loc=\"lower right\")\n",
    "plt.show()"
   ]
  },
  {
   "cell_type": "markdown",
   "metadata": {},
   "source": [
    "It can be seen that setting `use_orthogonal_projector` to True, the regression error does not behave analytically with respect to changes in the dimension, since the regression error using `xy_plane_projected_cube` has an abrupt jump in contrast to retaining the third dimension with 0 values. When setting `use_orthogonal_projector` to False this nonanalytic behavior is not present, since it uses the padding solution. The recommendation is therefore to set `use_orthogonal_projector` to False. This however is not always the intended usage, since it changes the nature of $X$ and $y$ by padding it with 0 values, so we also offer the other approach."
   ]
  }
 ],
 "metadata": {
  "kernelspec": {
   "display_name": "Python 3",
   "language": "python",
   "name": "python3"
  },
  "language_info": {
   "codemirror_mode": {
    "name": "ipython",
    "version": 3
   },
   "file_extension": ".py",
   "mimetype": "text/x-python",
   "name": "python",
   "nbconvert_exporter": "python",
   "pygments_lexer": "ipython3",
   "version": "3.7.6"
  }
 },
 "nbformat": 4,
 "nbformat_minor": 4
}
