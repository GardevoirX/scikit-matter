{
 "cells": [
  {
   "cell_type": "markdown",
   "metadata": {
    "toc": true
   },
   "source": [
    "<h1>Table of Contents<span class=\"tocSkip\"></span></h1>\n",
    "<div class=\"toc\"><ul class=\"toc-item\"><li><span><a href=\"#Pointwise-Local-Reconstruction-Error\" data-toc-modified-id=\"Pointwise-Local-Reconstruction-Error-1\"><span class=\"toc-item-num\">1&nbsp;&nbsp;</span>Pointwise Local Reconstruction Error</a></span></li></ul></div>"
   ]
  },
  {
   "cell_type": "markdown",
   "metadata": {},
   "source": [
    "Pointwise Local Reconstruction Error\n",
    "===================================="
   ]
  },
  {
   "cell_type": "markdown",
   "metadata": {},
   "source": [
    "Example for the usage of the `skcosmo.metrics.pointwise_local_reconstruction_error` as pointwise local reconstruction error (LFRE) on the degenerate CH4 manifold."
   ]
  },
  {
   "cell_type": "code",
   "execution_count": 2,
   "metadata": {},
   "outputs": [],
   "source": [
    "import numpy as np\n",
    "import matplotlib.pyplot as plt\n",
    "\n",
    "from skcosmo.datasets import load_degenerate_CH4_manifold\n",
    "from skcosmo.metrics import pointwise_local_reconstruction_error\n",
    "\n",
    "# load features\n",
    "degenerate_manifold = load_degenerate_CH4_manifold()\n",
    "soap_features = degenerate_manifold.data.SOAP_power_spectrum\n",
    "bispectrum_features = degenerate_manifold.data.SOAP_bispectrum"
   ]
  },
  {
   "cell_type": "code",
   "execution_count": 3,
   "metadata": {},
   "outputs": [
    {
     "name": "stdout",
     "output_type": "stream",
     "text": [
      ".. _degenerate_manifold:\n",
      "\n",
      "Degenerate manifold\n",
      "-------------------\n",
      "\n",
      "**Data Set Characteristics:**  \n",
      "\n",
      "    :Number of Instances: Each representation 162\n",
      "\n",
      "    :Number of Features: Each  representation 12\n",
      "\n",
      "The dataset contains two representations (SOAP power spectrum and bispectrum) of the two manifolds spanned by the carbon atoms of two times 81 methane structures [1]_.\n",
      "The SOAP power spectrum representation the two manifolds intersect creating a degenerate manifold/line for which the representation remains the same.\n",
      "In contrast for higher body order representations as the (SOAP) bispectrum the carbon atoms can be uniquely represented and do not create a degenerate manifold.\n",
      "Following the naming convention of Ref. [1]_ for each representation the first 81 samples correspond to the X minus manifold and the second 81 samples contain the X plus manifold \n",
      "The representations were computed with [2]_ using the hyperparameters:\n",
      "\n",
      "    :rascal hyperparameters:\n",
      "\n",
      "    +---------------------------+------------+\n",
      "    | key                       |   value    |\n",
      "    +===========================+============+\n",
      "    | radial_basis:             |    \"GTO\"   |\n",
      "    +---------------------------+------------+\n",
      "    | interaction_cutoff:       |      4     |\n",
      "    +---------------------------+------------+\n",
      "    | max_radial:               |      2     |\n",
      "    +---------------------------+------------+\n",
      "    | max_angular:              |      2     |\n",
      "    +---------------------------+------------+\n",
      "    | gaussian_sigma_constant\": |     0.5    |\n",
      "    +---------------------------+------------+\n",
      "    | gaussian_sigma_type:      |  \"Constant\"|\n",
      "    +---------------------------+------------+\n",
      "    | cutoff_smooth_width:      |     0.5    |\n",
      "    +---------------------------+------------+\n",
      "    | normalize:                |    False   |\n",
      "    +---------------------------+------------+\n",
      "\n",
      "The SOAP bispectrum features were in addition reduced to 12 features with principal component analysis (PCA) [3]_.\n",
      "\n",
      "References\n",
      "----------\n",
      "\n",
      "   .. [1] Pozdnyakov, S. N., Willatt, M. J., Bartók, A. P., Ortner, C., Csányi, G., & Ceriotti, M. (2020). Incompleteness of Atomic Structure Representations. Physical Review Letters, 125(16). https://doi.org/10.1103/physrevlett.125.166001\n",
      "   .. [2] https://github.com/cosmo-epfl/librascal commit 8d9ad7a\n",
      "   .. [3] https://scikit-learn.org/stable/modules/generated/sklearn.decomposition.PCA.html  \n",
      "\n"
     ]
    }
   ],
   "source": [
    "print(degenerate_manifold.DESCR)"
   ]
  },
  {
   "cell_type": "code",
   "execution_count": 4,
   "metadata": {},
   "outputs": [
    {
     "name": "stdout",
     "output_type": "stream",
     "text": [
      "Computing pointwise LFRE...\n",
      "Computing pointwise LFRE finished.\n",
      "LFRE(3-body, 4-body) = 0.16160962875496712\n",
      "LFRE(4-body, 3-body) = 3.4236500380471084e-10\n"
     ]
    }
   ],
   "source": [
    "n_local_points = 20\n",
    "\n",
    "print(\"Computing pointwise LFRE...\")\n",
    "soap_to_bispectrum_pointwise_lfre = pointwise_local_reconstruction_error(\n",
    "    soap_features,\n",
    "    bispectrum_features,\n",
    "    n_local_points,\n",
    "    estimator=None,\n",
    "    n_jobs=4,\n",
    ")\n",
    "bispectrum_to_soap_pointwise_lfre = pointwise_local_reconstruction_error(\n",
    "    bispectrum_features,\n",
    "    soap_features,\n",
    "    n_local_points,\n",
    "    estimator=None,\n",
    "    n_jobs=4,\n",
    ")\n",
    "print(\"Computing pointwise LFRE finished.\")\n",
    "\n",
    "print(\n",
    "    \"LFRE(3-body, 4-body) = \"\n",
    "    f\"{np.linalg.norm(soap_to_bispectrum_pointwise_lfre)/np.sqrt(len(soap_to_bispectrum_pointwise_lfre))}\"\n",
    ")\n",
    "print(\n",
    "    \"LFRE(4-body, 3-body) = \"\n",
    "    f\"{np.linalg.norm(bispectrum_to_soap_pointwise_lfre)/np.sqrt(len(soap_to_bispectrum_pointwise_lfre))}\"\n",
    ")"
   ]
  },
  {
   "cell_type": "code",
   "execution_count": 5,
   "metadata": {},
   "outputs": [
    {
     "data": {
      "image/png": "[encoded data removed]",
      "text/plain": [
       "<Figure size 1152x540 with 3 Axes>"
      ]
     },
     "metadata": {
      "needs_background": "light"
     },
     "output_type": "display_data"
    }
   ],
   "source": [
    "fig, axes = plt.subplots(1, 2, constrained_layout=True, figsize=(16, 7.5))\n",
    "vmax = 0.5\n",
    "X, Y = np.meshgrid(np.linspace(0.7, 0.9, 9), np.linspace(-0.1, 0.1, 9))\n",
    "pcm = axes[0].contourf(\n",
    "    X, Y, soap_to_bispectrum_pointwise_lfre[81:].reshape(9, 9).T, vmin=0, vmax=vmax\n",
    ")\n",
    "axes[1].contourf(\n",
    "    X, Y, bispectrum_to_soap_pointwise_lfre[81:].reshape(9, 9).T, vmin=0, vmax=vmax\n",
    ")\n",
    "axes[0].set_ylabel(\"v/π\")\n",
    "axes[1].set_ylabel(\"v/π\")\n",
    "axes[0].set_xlabel(\"u/π\")\n",
    "axes[1].set_xlabel(\"u/π\")\n",
    "axes[0].set_title(\"X minus LFRE(3-body, 4-body)\")\n",
    "axes[1].set_title(\"X minus LFRE(4-body, 3-body)\")\n",
    "fig.colorbar(pcm, ax=axes, label=\"\", location=\"bottom\")\n",
    "plt.show()"
   ]
  },
  {
   "cell_type": "markdown",
   "metadata": {},
   "source": [
    "It can be seen that the reconstruction of 4-body features using 3-body features is most significant along the degenerate manifold/line. Within this manifold the 3-body features remain the same and can therefore not reconstruct the 4-body features. While the 4-body features can perfectly reconstruct the 3-body features."
   ]
  },
  {
   "cell_type": "code",
   "execution_count": null,
   "metadata": {},
   "outputs": [],
   "source": []
  }
 ],
 "metadata": {
  "kernelspec": {
   "display_name": "Python 3",
   "language": "python",
   "name": "python3"
  },
  "language_info": {
   "codemirror_mode": {
    "name": "ipython",
    "version": 3
   },
   "file_extension": ".py",
   "mimetype": "text/x-python",
   "name": "python",
   "nbconvert_exporter": "python",
   "pygments_lexer": "ipython3",
   "version": "3.6.11"
  },
  "toc": {
   "base_numbering": 1,
   "nav_menu": {},
   "number_sections": true,
   "sideBar": true,
   "skip_h1_title": false,
   "title_cell": "Table of Contents",
   "title_sidebar": "Contents",
   "toc_cell": true,
   "toc_position": {},
   "toc_section_display": true,
   "toc_window_display": false
  }
 },
 "nbformat": 4,
 "nbformat_minor": 4
}
